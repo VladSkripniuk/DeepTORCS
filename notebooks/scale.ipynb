{
 "cells": [
  {
   "cell_type": "code",
   "execution_count": 24,
   "metadata": {
    "collapsed": true
   },
   "outputs": [],
   "source": [
    "import tensorflow as tf\n",
    "import numpy as np\n",
    "import matplotlib.pyplot as plt"
   ]
  },
  {
   "cell_type": "code",
   "execution_count": 25,
   "metadata": {
    "collapsed": true
   },
   "outputs": [],
   "source": [
    "data_path = '/home/deme01/TORCS_train.tfrecords'\n",
    "\n",
    "feature = {'train/fast': tf.FixedLenFeature([], tf.float32),\n",
    "    'train/dist_RR': tf.FixedLenFeature([], tf.float32),\n",
    "    'train/dist_MM': tf.FixedLenFeature([], tf.float32),\n",
    "    'train/dist_LL': tf.FixedLenFeature([], tf.float32),\n",
    "    'train/toMarking_RR': tf.FixedLenFeature([], tf.float32),\n",
    "    'train/toMarking_MR': tf.FixedLenFeature([], tf.float32),\n",
    "    'train/toMarking_ML': tf.FixedLenFeature([], tf.float32),\n",
    "    'train/toMarking_LL': tf.FixedLenFeature([], tf.float32),\n",
    "    'train/dist_R': tf.FixedLenFeature([], tf.float32),\n",
    "    'train/dist_L': tf.FixedLenFeature([], tf.float32),\n",
    "    'train/toMarking_R': tf.FixedLenFeature([], tf.float32),\n",
    "    'train/toMarking_M': tf.FixedLenFeature([], tf.float32),\n",
    "    'train/toMarking_L': tf.FixedLenFeature([], tf.float32),\n",
    "    'train/angle': tf.FixedLenFeature([], tf.float32),\n",
    "    'train/image': tf.FixedLenFeature([], tf.string)}\n",
    "\n",
    "# Create a list of filenames and pass it to a queue\n",
    "filename_queue = tf.train.string_input_producer([data_path], num_epochs=1)\n",
    "# Define a reader and read the next record\n",
    "reader = tf.TFRecordReader()\n",
    "_, serialized_example = reader.read(filename_queue)\n",
    "# Decode the record read by the reader\n",
    "features = tf.parse_single_example(serialized_example, features=feature)\n",
    "\n",
    "# Cast label data into float32\n",
    "fast = tf.cast(features['train/fast'], tf.float32)\n",
    "\n",
    "# rescale all targets to [0,1], numbers were taken from source code of DeepDriving\n",
    "dist_RR = tf.cast(features['train/dist_RR'], tf.float32) / 95.0 + 0.12\n",
    "dist_MM = tf.cast(features['train/dist_MM'], tf.float32) / 95.0 + 0.12\n",
    "dist_LL = tf.cast(features['train/dist_LL'], tf.float32) / 95.0 + 0.12\n",
    "\n",
    "toMarking_RR = tf.cast(features['train/toMarking_RR'], tf.float32) / 6.8752 - 0.48181\n",
    "toMarking_MR = tf.cast(features['train/toMarking_MR'], tf.float32) / 6.25 + 0.02\n",
    "toMarking_ML = tf.cast(features['train/toMarking_ML'], tf.float32) / 6.25 + 0.98\n",
    "toMarking_LL = tf.cast(features['train/toMarking_LL'], tf.float32) / 6.8752 + 1.48181\n",
    "\n",
    "dist_R = tf.cast(features['train/dist_R'], tf.float32) / 95.0 + 0.12\n",
    "dist_L = tf.cast(features['train/dist_L'], tf.float32) / 95.0 + 0.12\n",
    "\n",
    "toMarking_R = tf.cast(features['train/toMarking_R'], tf.float32) / 5.6249 - 0.34445\n",
    "toMarking_M = tf.cast(features['train/toMarking_M'], tf.float32) / 6.8752 + 0.39091\n",
    "toMarking_L = tf.cast(features['train/toMarking_L'], tf.float32) / 5.6249 + 1.34445\n",
    "\n",
    "angle = tf.cast(features['train/angle'], tf.float32) / 1.1 + 0.5\n",
    "\n",
    "# Creates batches by randomly shuffling tensors\n",
    "fasts, dist_RRs, dist_MMs, dist_LLs, toMarking_RRs, toMarking_MRs, toMarking_MLs, toMarking_LLs, dist_Rs, dist_Ls, toMarking_Rs, toMarking_Ms, toMarking_Ls, angles = tf.train.shuffle_batch(\n",
    "                    [fast, dist_RR, dist_MM, dist_LL, toMarking_RR, toMarking_MR, toMarking_ML,\n",
    "                        toMarking_LL, dist_R, dist_L, toMarking_R, toMarking_M, toMarking_L, angle],\n",
    "                        batch_size=64, capacity=50000, num_threads=8, min_after_dequeue=10000, allow_smaller_final_batch=True)\n"
   ]
  },
  {
   "cell_type": "code",
   "execution_count": 28,
   "metadata": {},
   "outputs": [],
   "source": [
    "values = np.zeros((0,))\n",
    "\n",
    "with tf.Session() as sess:\n",
    "\n",
    "    # Initialize all global and local variables\n",
    "    init_op = tf.group(tf.global_variables_initializer(), tf.local_variables_initializer())\n",
    "    sess.run(init_op)\n",
    "\n",
    "    # Create a coordinator and run all QueueRunner objects\n",
    "    coord = tf.train.Coordinator()\n",
    "    threads = tf.train.start_queue_runners(coord=coord)\n",
    "\n",
    "    for batch_index in range(100):\n",
    "        values = np.concatenate([values, sess.run([angles])[0]], axis=0)\n",
    "        \n",
    "    # Stop the threads\n",
    "    coord.request_stop()\n",
    "\n",
    "    # Wait for threads to stop\n",
    "    coord.join(threads)\n",
    "    sess.close()"
   ]
  },
  {
   "cell_type": "code",
   "execution_count": 29,
   "metadata": {},
   "outputs": [
    {
     "data": {
      "image/png": "[encoded data removed]",
      "text/plain": [
       "<matplotlib.figure.Figure at 0x7f9825bdd6d0>"
      ]
     },
     "metadata": {},
     "output_type": "display_data"
    }
   ],
   "source": [
    "plt.hist(values)\n",
    "plt.show()"
   ]
  },
  {
   "cell_type": "code",
   "execution_count": null,
   "metadata": {
    "collapsed": true
   },
   "outputs": [],
   "source": []
  }
 ],
 "metadata": {
  "kernelspec": {
   "display_name": "Python 2",
   "language": "python",
   "name": "python2"
  },
  "language_info": {
   "codemirror_mode": {
    "name": "ipython",
    "version": 2
   },
   "file_extension": ".py",
   "mimetype": "text/x-python",
   "name": "python",
   "nbconvert_exporter": "python",
   "pygments_lexer": "ipython2",
   "version": "2.7.12"
  }
 },
 "nbformat": 4,
 "nbformat_minor": 2
}
